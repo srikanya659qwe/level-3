{
 "cells": [
  {
   "cell_type": "code",
   "execution_count": 7,
   "metadata": {
    "scrolled": true
   },
   "outputs": [
    {
     "data": {
      "text/plain": [
       "array([[5.54681532],\n",
       "       [5.0179351 ],\n",
       "       [7.60211667],\n",
       "       [6.86381166],\n",
       "       [5.76634972],\n",
       "       [7.46599094],\n",
       "       [5.17592283],\n",
       "       [6.1117529 ],\n",
       "       [5.3340637 ],\n",
       "       [5.27336399],\n",
       "       [4.66711709],\n",
       "       [5.23531965],\n",
       "       [6.95983205],\n",
       "       [7.33155494],\n",
       "       [6.80690691],\n",
       "       [4.27958354],\n",
       "       [7.51247448],\n",
       "       [5.47742772],\n",
       "       [5.45814627],\n",
       "       [6.87490193],\n",
       "       [7.45106393],\n",
       "       [6.20355698],\n",
       "       [6.34919427],\n",
       "       [7.42871649],\n",
       "       [6.37787945],\n",
       "       [5.25412266],\n",
       "       [5.51828093],\n",
       "       [4.39342346],\n",
       "       [7.37352205],\n",
       "       [6.86523667],\n",
       "       [6.8250947 ],\n",
       "       [7.17944682],\n",
       "       [6.24531743],\n",
       "       [6.39926671],\n",
       "       [6.71403467],\n",
       "       [6.64628874],\n",
       "       [7.46298634],\n",
       "       [6.56663433],\n",
       "       [5.24668915],\n",
       "       [6.446469  ],\n",
       "       [7.12619463],\n",
       "       [6.50001357],\n",
       "       [4.99292775],\n",
       "       [5.31483875],\n",
       "       [4.45303544],\n",
       "       [5.51408969],\n",
       "       [5.92704877],\n",
       "       [5.76729788],\n",
       "       [6.75536464],\n",
       "       [4.66795334],\n",
       "       [5.37404428],\n",
       "       [6.12584469],\n",
       "       [5.89839105],\n",
       "       [6.98178188],\n",
       "       [5.62539531],\n",
       "       [5.32128447],\n",
       "       [4.76954747],\n",
       "       [5.62965266],\n",
       "       [7.18051864],\n",
       "       [4.19890883],\n",
       "       [4.70699697],\n",
       "       [7.16057967],\n",
       "       [5.63011271],\n",
       "       [6.92716292],\n",
       "       [5.3189999 ],\n",
       "       [5.11204506],\n",
       "       [5.30243653],\n",
       "       [6.59498314],\n",
       "       [5.9809681 ],\n",
       "       [6.90539345],\n",
       "       [7.17969848],\n",
       "       [4.91072377],\n",
       "       [4.89695366],\n",
       "       [7.35627971],\n",
       "       [7.1332205 ],\n",
       "       [7.19958151],\n",
       "       [7.07505753],\n",
       "       [5.55800119],\n",
       "       [4.77517713],\n",
       "       [6.5044006 ],\n",
       "       [5.001222  ],\n",
       "       [7.10745238],\n",
       "       [6.92029015],\n",
       "       [6.4529932 ],\n",
       "       [7.25868776],\n",
       "       [6.45676951],\n",
       "       [5.48139582],\n",
       "       [6.70589909],\n",
       "       [5.40484783],\n",
       "       [7.80854083],\n",
       "       [6.56098656],\n",
       "       [6.71381828],\n",
       "       [4.92374785],\n",
       "       [4.92566962],\n",
       "       [5.01556531],\n",
       "       [6.13319896],\n",
       "       [4.91168397],\n",
       "       [5.16922878],\n",
       "       [6.7793863 ],\n",
       "       [5.3024926 ]])"
      ]
     },
     "execution_count": 7,
     "metadata": {},
     "output_type": "execute_result"
    }
   ],
   "source": [
    "import numpy as np\n",
    "import matplotlib.pyplot as plt\n",
    "x=np.random.rand(100,1)      \n",
    "y=4+3*x+np.random.rand(100,1)\n",
    "y"
   ]
  },
  {
   "cell_type": "code",
   "execution_count": 8,
   "metadata": {},
   "outputs": [
    {
     "data": {
      "text/plain": [
       "[<matplotlib.lines.Line2D at 0x263a2e1da58>]"
      ]
     },
     "execution_count": 8,
     "metadata": {},
     "output_type": "execute_result"
    },
    {
     "data": {
      "image/png": "[encoded data removed]",
      "text/plain": [
       "<Figure size 432x288 with 1 Axes>"
      ]
     },
     "metadata": {
      "needs_background": "light"
     },
     "output_type": "display_data"
    }
   ],
   "source": [
    "plt.plot(x,y,'.')"
   ]
  },
  {
   "cell_type": "code",
   "execution_count": 13,
   "metadata": {},
   "outputs": [
    {
     "data": {
      "text/plain": [
       "array([[1.        , 0.19637773],\n",
       "       [1.        , 0.07038228],\n",
       "       [1.        , 0.87136416],\n",
       "       [1.        , 0.63588886],\n",
       "       [1.        , 0.58652443],\n",
       "       [1.        , 0.84490471],\n",
       "       [1.        , 0.14741004],\n",
       "       [1.        , 0.48998883],\n",
       "       [1.        , 0.20686589],\n",
       "       [1.        , 0.21976421],\n",
       "       [1.        , 0.20409327],\n",
       "       [1.        , 0.08996169],\n",
       "       [1.        , 0.80072642],\n",
       "       [1.        , 0.86542432],\n",
       "       [1.        , 0.81000396],\n",
       "       [1.        , 0.09130669],\n",
       "       [1.        , 0.85602682],\n",
       "       [1.        , 0.4235684 ],\n",
       "       [1.        , 0.17614381],\n",
       "       [1.        , 0.78562338],\n",
       "       [1.        , 0.82533948],\n",
       "       [1.        , 0.53806105],\n",
       "       [1.        , 0.6128259 ],\n",
       "       [1.        , 0.88335847],\n",
       "       [1.        , 0.68022551],\n",
       "       [1.        , 0.40510562],\n",
       "       [1.        , 0.41314078],\n",
       "       [1.        , 0.11167096],\n",
       "       [1.        , 0.88399812],\n",
       "       [1.        , 0.67682082],\n",
       "       [1.        , 0.82873032],\n",
       "       [1.        , 0.72957155],\n",
       "       [1.        , 0.6876921 ],\n",
       "       [1.        , 0.5749353 ],\n",
       "       [1.        , 0.88158998],\n",
       "       [1.        , 0.80828589],\n",
       "       [1.        , 0.91436488],\n",
       "       [1.        , 0.79714026],\n",
       "       [1.        , 0.36915695],\n",
       "       [1.        , 0.53216042],\n",
       "       [1.        , 0.83507739],\n",
       "       [1.        , 0.60405581],\n",
       "       [1.        , 0.02229554],\n",
       "       [1.        , 0.29963048],\n",
       "       [1.        , 0.00607707],\n",
       "       [1.        , 0.3420447 ],\n",
       "       [1.        , 0.57768241],\n",
       "       [1.        , 0.31316061],\n",
       "       [1.        , 0.63028308],\n",
       "       [1.        , 0.1014486 ],\n",
       "       [1.        , 0.30045863],\n",
       "       [1.        , 0.55866731],\n",
       "       [1.        , 0.31624669],\n",
       "       [1.        , 0.88842413],\n",
       "       [1.        , 0.31209896],\n",
       "       [1.        , 0.21095937],\n",
       "       [1.        , 0.19921646],\n",
       "       [1.        , 0.42580496],\n",
       "       [1.        , 0.8521712 ],\n",
       "       [1.        , 0.03853139],\n",
       "       [1.        , 0.22239642],\n",
       "       [1.        , 0.7701269 ],\n",
       "       [1.        , 0.22545917],\n",
       "       [1.        , 0.87941948],\n",
       "       [1.        , 0.42579118],\n",
       "       [1.        , 0.22183746],\n",
       "       [1.        , 0.21276804],\n",
       "       [1.        , 0.53523013],\n",
       "       [1.        , 0.33097939],\n",
       "       [1.        , 0.86421264],\n",
       "       [1.        , 0.98976683],\n",
       "       [1.        , 0.14033972],\n",
       "       [1.        , 0.23129268],\n",
       "       [1.        , 0.97565131],\n",
       "       [1.        , 0.74287217],\n",
       "       [1.        , 0.87798091],\n",
       "       [1.        , 0.85142558],\n",
       "       [1.        , 0.23650567],\n",
       "       [1.        , 0.02453386],\n",
       "       [1.        , 0.78206041],\n",
       "       [1.        , 0.0688298 ],\n",
       "       [1.        , 0.73313598],\n",
       "       [1.        , 0.88089723],\n",
       "       [1.        , 0.80583271],\n",
       "       [1.        , 0.84945286],\n",
       "       [1.        , 0.72028172],\n",
       "       [1.        , 0.39068888],\n",
       "       [1.        , 0.87619389],\n",
       "       [1.        , 0.35019152],\n",
       "       [1.        , 0.95635357],\n",
       "       [1.        , 0.57102579],\n",
       "       [1.        , 0.60697488],\n",
       "       [1.        , 0.11194946],\n",
       "       [1.        , 0.09648961],\n",
       "       [1.        , 0.02008259],\n",
       "       [1.        , 0.64817386],\n",
       "       [1.        , 0.11856798],\n",
       "       [1.        , 0.09802203],\n",
       "       [1.        , 0.85596304],\n",
       "       [1.        , 0.26296075]])"
      ]
     },
     "execution_count": 13,
     "metadata": {},
     "output_type": "execute_result"
    }
   ],
   "source": [
    "x_b = np.c_[np.ones((100,1)),x]# add x0=1 to each instance\n",
    "x_b"
   ]
  },
  {
   "cell_type": "code",
   "execution_count": 15,
   "metadata": {},
   "outputs": [
    {
     "data": {
      "text/plain": [
       "array([[4.57100952],\n",
       "       [2.94548128]])"
      ]
     },
     "execution_count": 15,
     "metadata": {},
     "output_type": "execute_result"
    }
   ],
   "source": [
    "t_best=np.linalg.inv(x_b.T.dot((x_b))).dot(x_b.T).dot(y)\n",
    "t_best\n"
   ]
  },
  {
   "cell_type": "code",
   "execution_count": 16,
   "metadata": {},
   "outputs": [
    {
     "data": {
      "text/plain": [
       "array([[0],\n",
       "       [2]])"
      ]
     },
     "execution_count": 16,
     "metadata": {},
     "output_type": "execute_result"
    }
   ],
   "source": [
    "x_new=np.array([[0],[2]])\n",
    "x_new"
   ]
  },
  {
   "cell_type": "code",
   "execution_count": 17,
   "metadata": {},
   "outputs": [
    {
     "data": {
      "text/plain": [
       "array([[1., 0.],\n",
       "       [1., 2.]])"
      ]
     },
     "execution_count": 17,
     "metadata": {},
     "output_type": "execute_result"
    }
   ],
   "source": [
    "x_new_b=np.c_[np.ones((2,1)),x_new]\n",
    "x_new_b"
   ]
  },
  {
   "cell_type": "code",
   "execution_count": 18,
   "metadata": {},
   "outputs": [
    {
     "data": {
      "text/plain": [
       "array([[ 4.57100952],\n",
       "       [10.46197209]])"
      ]
     },
     "execution_count": 18,
     "metadata": {},
     "output_type": "execute_result"
    }
   ],
   "source": [
    "y_predict=x_new_b.dot(t_best)\n",
    "y_predict"
   ]
  },
  {
   "cell_type": "code",
   "execution_count": 23,
   "metadata": {
    "scrolled": true
   },
   "outputs": [
    {
     "data": {
      "text/plain": [
       "[0, 2, 0, 15]"
      ]
     },
     "execution_count": 23,
     "metadata": {},
     "output_type": "execute_result"
    },
    {
     "data": {
      "image/png": "[encoded data removed]",
      "text/plain": [
       "<Figure size 432x288 with 1 Axes>"
      ]
     },
     "metadata": {
      "needs_background": "light"
     },
     "output_type": "display_data"
    }
   ],
   "source": [
    "plt.plot(x_new,y_predict,'r')\n",
    "plt.plot(x,y,'.')\n",
    "plt.axis([0,2,0,15])"
   ]
  },
  {
   "cell_type": "code",
   "execution_count": 28,
   "metadata": {},
   "outputs": [
    {
     "data": {
      "text/plain": [
       "(array([4.57100952]), array([[2.94548128]]))"
      ]
     },
     "execution_count": 28,
     "metadata": {},
     "output_type": "execute_result"
    }
   ],
   "source": [
    "from sklearn.linear_model import LinearRegression\n",
    "lin_reg=LinearRegression()\n",
    "lin_reg.fit(x,y)\n",
    "lin_reg.intercept_,lin_reg.coef_"
   ]
  },
  {
   "cell_type": "code",
   "execution_count": 29,
   "metadata": {},
   "outputs": [],
   "source": [
    "eta=0.1\n",
    "n_interactions=1000\n",
    "m=100\n",
    "theta=np.random.randn(2,1)"
   ]
  },
  {
   "cell_type": "code",
   "execution_count": 32,
   "metadata": {},
   "outputs": [
    {
     "data": {
      "text/plain": [
       "array([[4.57100952],\n",
       "       [2.94548128]])"
      ]
     },
     "execution_count": 32,
     "metadata": {},
     "output_type": "execute_result"
    }
   ],
   "source": [
    "for i in range(n_interactions):\n",
    "    gradients=2/m*x_b.T.dot(x_b.dot(theta)-y)\n",
    "    theta=theta-eta*gradients\n",
    "theta"
   ]
  },
  {
   "cell_type": "code",
   "execution_count": 33,
   "metadata": {},
   "outputs": [
    {
     "data": {
      "text/plain": [
       "array([[ 2.3269039 ],\n",
       "       [ 2.88400896],\n",
       "       [-0.29435434],\n",
       "       [ 0.8588525 ],\n",
       "       [ 1.82230472],\n",
       "       [-1.05389834],\n",
       "       [ 1.82841725],\n",
       "       [-1.884212  ],\n",
       "       [-0.96573252],\n",
       "       [-2.38000512],\n",
       "       [-2.80226772],\n",
       "       [ 2.29502845],\n",
       "       [ 0.44928014],\n",
       "       [ 2.08645464],\n",
       "       [-2.51948091],\n",
       "       [ 0.97940093],\n",
       "       [ 2.77114487],\n",
       "       [-2.73373668],\n",
       "       [ 2.73074685],\n",
       "       [ 1.96085405],\n",
       "       [-1.54702717],\n",
       "       [-2.46482712],\n",
       "       [-1.3413661 ],\n",
       "       [ 2.26532185],\n",
       "       [-0.8007904 ],\n",
       "       [ 2.54032815],\n",
       "       [-2.05348802],\n",
       "       [-2.74498865],\n",
       "       [ 2.83177057],\n",
       "       [-0.86870448],\n",
       "       [ 0.30805586],\n",
       "       [-1.4911097 ],\n",
       "       [-1.21062479],\n",
       "       [ 2.86306405],\n",
       "       [-2.78437084],\n",
       "       [ 0.70398617],\n",
       "       [ 0.58214354],\n",
       "       [ 2.66865933],\n",
       "       [-2.93426861],\n",
       "       [ 1.96833979],\n",
       "       [-2.3419986 ],\n",
       "       [-1.69129631],\n",
       "       [ 2.31797961],\n",
       "       [-1.9990773 ],\n",
       "       [-2.45899244],\n",
       "       [ 2.32496068],\n",
       "       [-0.68577232],\n",
       "       [-1.96569005],\n",
       "       [-1.91382842],\n",
       "       [ 2.6861056 ],\n",
       "       [-0.5976608 ],\n",
       "       [ 0.31805094],\n",
       "       [-0.08985808],\n",
       "       [-1.31339189],\n",
       "       [-1.14903667],\n",
       "       [-1.55035994],\n",
       "       [-1.57336663],\n",
       "       [-1.80547407],\n",
       "       [ 2.0558127 ],\n",
       "       [ 1.60144054],\n",
       "       [-1.24518254],\n",
       "       [-1.99116178],\n",
       "       [-1.6317338 ],\n",
       "       [ 1.93123312],\n",
       "       [ 2.14969801],\n",
       "       [ 2.20561763],\n",
       "       [-1.97316232],\n",
       "       [-1.88931599],\n",
       "       [-2.86985724],\n",
       "       [ 0.66596289],\n",
       "       [ 2.75316714],\n",
       "       [-2.0212794 ],\n",
       "       [-1.5350151 ],\n",
       "       [-0.06464593],\n",
       "       [ 1.24757268],\n",
       "       [-1.47425994],\n",
       "       [-1.87868397],\n",
       "       [ 2.37856898],\n",
       "       [-1.7614194 ],\n",
       "       [ 2.98402097],\n",
       "       [-2.62752578],\n",
       "       [ 1.87822785],\n",
       "       [-0.37660642],\n",
       "       [ 1.8327563 ],\n",
       "       [ 2.56784434],\n",
       "       [-2.5913633 ],\n",
       "       [-1.00057961],\n",
       "       [ 2.37057619],\n",
       "       [ 0.90882583],\n",
       "       [-1.63890136],\n",
       "       [-2.47573842],\n",
       "       [-0.06658905],\n",
       "       [-0.64617937],\n",
       "       [-0.79477615],\n",
       "       [ 0.31734934],\n",
       "       [-1.62636098],\n",
       "       [-0.31033732],\n",
       "       [ 1.53920239],\n",
       "       [-0.03414829],\n",
       "       [-2.10928528]])"
      ]
     },
     "execution_count": 33,
     "metadata": {},
     "output_type": "execute_result"
    }
   ],
   "source": [
    "import numpy as np\n",
    "m=100\n",
    "x=6*np.random.rand(m,1)-3\n",
    "x"
   ]
  },
  {
   "cell_type": "code",
   "execution_count": 34,
   "metadata": {},
   "outputs": [
    {
     "data": {
      "text/plain": [
       "array([[ 7.39024903],\n",
       "       [10.1253104 ],\n",
       "       [ 2.15083702],\n",
       "       [ 4.73110436],\n",
       "       [ 5.99953286],\n",
       "       [ 1.56960775],\n",
       "       [ 4.40604096],\n",
       "       [ 2.4217908 ],\n",
       "       [ 0.23987727],\n",
       "       [ 2.26902163],\n",
       "       [ 2.59023032],\n",
       "       [ 6.7786425 ],\n",
       "       [ 3.39434965],\n",
       "       [ 7.14085336],\n",
       "       [ 3.07221917],\n",
       "       [ 3.04085404],\n",
       "       [ 8.8899242 ],\n",
       "       [ 2.45898195],\n",
       "       [10.6994247 ],\n",
       "       [ 7.29812548],\n",
       "       [ 2.05834505],\n",
       "       [ 0.51423621],\n",
       "       [ 1.24558768],\n",
       "       [ 7.01045467],\n",
       "       [ 2.6723304 ],\n",
       "       [ 6.61907216],\n",
       "       [ 1.23386876],\n",
       "       [ 2.53235797],\n",
       "       [ 9.27308958],\n",
       "       [-0.29908564],\n",
       "       [ 0.43443216],\n",
       "       [ 2.28250802],\n",
       "       [ 0.05076825],\n",
       "       [ 8.16610415],\n",
       "       [ 1.20387582],\n",
       "       [ 1.4335672 ],\n",
       "       [ 3.72264648],\n",
       "       [ 8.26313369],\n",
       "       [ 3.76151663],\n",
       "       [ 4.65732392],\n",
       "       [ 1.32428391],\n",
       "       [ 1.59603693],\n",
       "       [ 7.87573501],\n",
       "       [ 1.38934672],\n",
       "       [ 2.66096071],\n",
       "       [ 7.45535607],\n",
       "       [ 3.3016521 ],\n",
       "       [ 2.78009629],\n",
       "       [ 2.48801238],\n",
       "       [ 5.97263065],\n",
       "       [ 1.02108108],\n",
       "       [ 1.82410752],\n",
       "       [ 2.45571682],\n",
       "       [ 2.38426847],\n",
       "       [ 1.72397181],\n",
       "       [ 1.31253797],\n",
       "       [ 2.13877119],\n",
       "       [ 1.75393328],\n",
       "       [ 7.95060483],\n",
       "       [ 4.9089575 ],\n",
       "       [ 0.82455871],\n",
       "       [ 2.16590914],\n",
       "       [ 2.8089275 ],\n",
       "       [ 8.47327092],\n",
       "       [ 7.0074984 ],\n",
       "       [ 6.85348885],\n",
       "       [ 3.12417227],\n",
       "       [ 0.71820352],\n",
       "       [ 4.38482442],\n",
       "       [ 3.05540642],\n",
       "       [ 9.51845475],\n",
       "       [ 1.11719864],\n",
       "       [ 0.03465344],\n",
       "       [ 3.16279846],\n",
       "       [ 5.56517516],\n",
       "       [ 0.18771621],\n",
       "       [-0.01509649],\n",
       "       [ 7.75619635],\n",
       "       [ 0.57499793],\n",
       "       [ 8.84210189],\n",
       "       [ 3.4794801 ],\n",
       "       [ 7.42538554],\n",
       "       [-0.36166125],\n",
       "       [ 3.19235982],\n",
       "       [ 7.24965352],\n",
       "       [ 1.12697448],\n",
       "       [ 1.49900914],\n",
       "       [ 6.8959488 ],\n",
       "       [ 5.62523409],\n",
       "       [ 1.75786499],\n",
       "       [ 2.49778219],\n",
       "       [ 1.85847956],\n",
       "       [-0.23075095],\n",
       "       [ 2.46649748],\n",
       "       [ 3.6306392 ],\n",
       "       [ 1.94422961],\n",
       "       [ 2.508784  ],\n",
       "       [ 4.56204317],\n",
       "       [ 2.959688  ],\n",
       "       [ 2.34639896]])"
      ]
     },
     "execution_count": 34,
     "metadata": {},
     "output_type": "execute_result"
    }
   ],
   "source": [
    "y=0.5*x**2+x+2+np.random.randn(m,1)\n",
    "y"
   ]
  },
  {
   "cell_type": "code",
   "execution_count": 35,
   "metadata": {},
   "outputs": [
    {
     "data": {
      "text/plain": [
       "[<matplotlib.lines.Line2D at 0x263a49ece80>]"
      ]
     },
     "execution_count": 35,
     "metadata": {},
     "output_type": "execute_result"
    },
    {
     "data": {
      "image/png": "[encoded data removed]",
      "text/plain": [
       "<Figure size 432x288 with 1 Axes>"
      ]
     },
     "metadata": {
      "needs_background": "light"
     },
     "output_type": "display_data"
    }
   ],
   "source": [
    "import matplotlib.pyplot as plt\n",
    "plt.plot(x,y,'.')"
   ]
  },
  {
   "cell_type": "code",
   "execution_count": 37,
   "metadata": {},
   "outputs": [
    {
     "data": {
      "text/plain": [
       "PolynomialFeatures(degree=2, include_bias=False, interaction_only=False)"
      ]
     },
     "execution_count": 37,
     "metadata": {},
     "output_type": "execute_result"
    }
   ],
   "source": [
    "from sklearn.preprocessing import PolynomialFeatures\n",
    "poly_features=PolynomialFeatures(degree=2,include_bias=False)\n",
    "poly_features"
   ]
  },
  {
   "cell_type": "code",
   "execution_count": 38,
   "metadata": {},
   "outputs": [],
   "source": [
    "x_poly=poly_features.fit_transform(x)"
   ]
  },
  {
   "cell_type": "code",
   "execution_count": 39,
   "metadata": {},
   "outputs": [
    {
     "data": {
      "text/plain": [
       "array([2.3269039])"
      ]
     },
     "execution_count": 39,
     "metadata": {},
     "output_type": "execute_result"
    }
   ],
   "source": [
    "x[0]"
   ]
  },
  {
   "cell_type": "code",
   "execution_count": 40,
   "metadata": {},
   "outputs": [
    {
     "data": {
      "text/plain": [
       "array([2.3269039 , 5.41448175])"
      ]
     },
     "execution_count": 40,
     "metadata": {},
     "output_type": "execute_result"
    }
   ],
   "source": [
    "x_poly[0]"
   ]
  },
  {
   "cell_type": "code",
   "execution_count": 41,
   "metadata": {},
   "outputs": [],
   "source": [
    "from sklearn.linear_model import LinearRegression\n",
    "lin_reg=LinearRegression()"
   ]
  },
  {
   "cell_type": "code",
   "execution_count": null,
   "metadata": {},
   "outputs": [],
   "source": [
    "lin_reg.fit(x_poly,y)\n",
    "lin_reg."
   ]
  },
  {
   "cell_type": "markdown",
   "metadata": {},
   "source": [
    "### SVM\n",
    "- SUPPORT VECTOR MACHINE"
   ]
  },
  {
   "cell_type": "markdown",
   "metadata": {},
   "source": [
    "### Computer Vision\n",
    "- Best applications is face detection \n",
    "- open CV(2,500 algorthims)\n",
    "- easy way to use and effiecient way to determine it\n",
    "- opencv first version is relesed in 2006\n"
   ]
  },
  {
   "cell_type": "code",
   "execution_count": null,
   "metadata": {},
   "outputs": [],
   "source": []
  },
  {
   "cell_type": "code",
   "execution_count": null,
   "metadata": {},
   "outputs": [],
   "source": []
  }
 ],
 "metadata": {
  "kernelspec": {
   "display_name": "Python 3",
   "language": "python",
   "name": "python3"
  },
  "language_info": {
   "codemirror_mode": {
    "name": "ipython",
    "version": 3
   },
   "file_extension": ".py",
   "mimetype": "text/x-python",
   "name": "python",
   "nbconvert_exporter": "python",
   "pygments_lexer": "ipython3",
   "version": "3.7.3"
  }
 },
 "nbformat": 4,
 "nbformat_minor": 2
}
