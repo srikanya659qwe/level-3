{
 "cells": [
  {
   "cell_type": "markdown",
   "metadata": {},
   "source": [
    "special number check\n",
    "   \n",
    "    \n",
    "    4  0\n",
    "    5  0\n",
    "    6  0\n",
    "    7  0\n",
    "    8  1\n",
    "    \n",
    "sum of any two distinct single  digit odd prime number with each of the prime number having a positive power\n",
    "\n",
    "3 5 7\n",
    " \n",
    "8->3^1+5^1\n",
    "\n",
    "12->7^1+5^1\n",
    "\n",
    "15->3^1+5^1+7^1\n",
    "\n",
    "14->3^2+5\n",
    "\n",
    "16->3^2+7\n",
    "\n",
    "28->5^2+3^1\n",
    "\n",
    "\n"
   ]
  },
  {
   "cell_type": "code",
   "execution_count": 15,
   "metadata": {},
   "outputs": [
    {
     "data": {
      "text/plain": [
       "False"
      ]
     },
     "execution_count": 15,
     "metadata": {},
     "output_type": "execute_result"
    }
   ],
   "source": [
    "def specialnumbercheck(n):\n",
    "    list3=[]\n",
    "    list5=[]\n",
    "    list7=[]\n",
    "    fp=10\n",
    "    for i in range(1,11):\n",
    "        list3.append(3 ** i)\n",
    "        list5.append(5 ** i)\n",
    "        list7.append(7 ** i)\n",
    "    for i in  range(10):\n",
    "        for j in range(10):\n",
    "            if list3[i]+list5[j] == n or list3[i]+list7[j]==n:\n",
    "                return True\n",
    "    for i in  range(10):\n",
    "        for j in  range(10):\n",
    "            if list5[i]+list7[j]==n:\n",
    "                return True\n",
    "    return False \n",
    "specialnumbercheck(11)"
   ]
  },
  {
   "cell_type": "markdown",
   "metadata": {},
   "source": [
    "### convert a number to a special number by adding 1's\n"
   ]
  },
  {
   "cell_type": "code",
   "execution_count": 19,
   "metadata": {},
   "outputs": [
    {
     "name": "stdout",
     "output_type": "stream",
     "text": [
      "14\n"
     ]
    }
   ],
   "source": [
    "def nextspecialnumber(n):\n",
    "    if not specialnumbercheck(n):\n",
    "        n+=1\n",
    "        nextspecialnumber(n)\n",
    "    else:\n",
    "        print(n)\n",
    "nextspecialnumber(13)"
   ]
  },
  {
   "cell_type": "markdown",
   "metadata": {},
   "source": [
    "### convert a number to a special number by subtracting 1's"
   ]
  },
  {
   "cell_type": "code",
   "execution_count": 22,
   "metadata": {},
   "outputs": [
    {
     "name": "stdout",
     "output_type": "stream",
     "text": [
      "8\n"
     ]
    }
   ],
   "source": [
    "def nextspecialnumber(n):\n",
    "    if not specialnumbercheck(n):\n",
    "        n-=1\n",
    "        nextspecialnumber(n)\n",
    "    else:\n",
    "        print(n)\n",
    "nextspecialnumber(9)"
   ]
  },
  {
   "cell_type": "code",
   "execution_count": null,
   "metadata": {},
   "outputs": [],
   "source": []
  }
 ],
 "metadata": {
  "kernelspec": {
   "display_name": "Python 3",
   "language": "python",
   "name": "python3"
  },
  "language_info": {
   "codemirror_mode": {
    "name": "ipython",
    "version": 3
   },
   "file_extension": ".py",
   "mimetype": "text/x-python",
   "name": "python",
   "nbconvert_exporter": "python",
   "pygments_lexer": "ipython3",
   "version": "3.7.3"
  }
 },
 "nbformat": 4,
 "nbformat_minor": 2
}
