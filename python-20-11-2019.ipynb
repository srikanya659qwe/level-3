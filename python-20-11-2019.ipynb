{
 "cells": [
  {
   "cell_type": "code",
   "execution_count": 20,
   "metadata": {},
   "outputs": [
    {
     "data": {
      "text/plain": [
       "('AO', 'RAMA')"
      ]
     },
     "execution_count": 20,
     "metadata": {},
     "output_type": "execute_result"
    }
   ],
   "source": [
    "t=(\"AO\",\"RAMA\")\n",
    "[rollno,name]=t\n",
    "t"
   ]
  },
  {
   "cell_type": "code",
   "execution_count": 18,
   "metadata": {},
   "outputs": [
    {
     "data": {
      "text/plain": [
       "'RAMA'"
      ]
     },
     "execution_count": 18,
     "metadata": {},
     "output_type": "execute_result"
    }
   ],
   "source": [
    "t[1]"
   ]
  },
  {
   "cell_type": "code",
   "execution_count": 19,
   "metadata": {},
   "outputs": [
    {
     "data": {
      "text/plain": [
       "('AO', 'RAMA')"
      ]
     },
     "execution_count": 19,
     "metadata": {},
     "output_type": "execute_result"
    }
   ],
   "source": [
    "t"
   ]
  },
  {
   "cell_type": "code",
   "execution_count": 23,
   "metadata": {},
   "outputs": [
    {
     "name": "stdout",
     "output_type": "stream",
     "text": [
      "['12334,7']\n"
     ]
    }
   ],
   "source": [
    "s=\"12334,7\"\n",
    "a=s.split()\n",
    "print(a)"
   ]
  },
  {
   "cell_type": "code",
   "execution_count": 24,
   "metadata": {},
   "outputs": [
    {
     "name": "stdout",
     "output_type": "stream",
     "text": [
      "4\n",
      "p\n"
     ]
    }
   ],
   "source": [
    "n=int(input())\n",
    "if n>=0:\n",
    "    if n==0:\n",
    "        print(\"zero\")\n",
    "    else:\n",
    "        print(\"p\")\n",
    "else:\n",
    "    print(\"n\")"
   ]
  },
  {
   "cell_type": "code",
   "execution_count": 34,
   "metadata": {},
   "outputs": [
    {
     "name": "stdout",
     "output_type": "stream",
     "text": [
      "s \n",
      "d \n",
      "f \n",
      "s \n",
      "d \n",
      "f \n",
      "g \n",
      "h \n",
      "24680864 \n",
      "133579975 "
     ]
    }
   ],
   "source": [
    "s='123sdf34567890987654sdfgh'\n",
    "e=''\n",
    "o=''\n",
    "for i in s:\n",
    "    if i.isalpha():\n",
    "        print(i,end=\" \"'\\n')\n",
    "    elif int(i)%2==0:\n",
    "        e=e+i\n",
    "    else:\n",
    "        o=o+i\n",
    "print(e,end=\" \"'\\n')\n",
    "print(o,end=\" \")"
   ]
  },
  {
   "cell_type": "code",
   "execution_count": 35,
   "metadata": {},
   "outputs": [
    {
     "name": "stdout",
     "output_type": "stream",
     "text": [
      "9 3 1 7 2 8 4 7 "
     ]
    }
   ],
   "source": [
    "#li=[9,3,1,7,2,8,4,7]\n",
    "#li=[1,3,7,9,8,7,4,2]\n",
    "li=[9,3,1,7,2,8,4,7]\n",
    "l2=[]\n",
    "for i in li:\n",
    "    if\n",
    "    "
   ]
  },
  {
   "cell_type": "code",
   "execution_count": 46,
   "metadata": {},
   "outputs": [
    {
     "data": {
      "text/plain": [
       "[1, 3, 7, 9, 8, 7, 4, 2]"
      ]
     },
     "execution_count": 46,
     "metadata": {},
     "output_type": "execute_result"
    }
   ],
   "source": [
    "li=[9,3,1,7,2,8,4,7]\n",
    "l2=li[:4]\n",
    "l3=li[4:]\n",
    "l2.sort()\n",
    "l3.sort()\n",
    "l3.reverse()\n",
    "lp=l2+l3\n",
    "lp\n"
   ]
  },
  {
   "cell_type": "code",
   "execution_count": 57,
   "metadata": {},
   "outputs": [
    {
     "data": {
      "text/plain": [
       "[1, 3, 7, 9, 8, 7, 4, 2]"
      ]
     },
     "execution_count": 57,
     "metadata": {},
     "output_type": "execute_result"
    }
   ],
   "source": [
    "li=[9,3,1,7,2,8,4,7]\n",
    "l2=li[:4]\n",
    "l2.sort()\n",
    "l2\n",
    "l3=li[4:]\n",
    "l3.sort()\n",
    "l3.reverse()\n",
    "lp=l2+l3\n",
    "lp\n",
    "\n"
   ]
  },
  {
   "cell_type": "code",
   "execution_count": 60,
   "metadata": {},
   "outputs": [
    {
     "data": {
      "text/plain": [
       "[1, 2, 3, 4, 7, 7, 8, 9]"
      ]
     },
     "execution_count": 60,
     "metadata": {},
     "output_type": "execute_result"
    }
   ],
   "source": [
    "li=[9,3,1,7,2,8,4,7]\n",
    "li.sort(reverse=False)\n",
    "li"
   ]
  },
  {
   "cell_type": "code",
   "execution_count": 62,
   "metadata": {},
   "outputs": [
    {
     "name": "stdout",
     "output_type": "stream",
     "text": [
      "AO081\n",
      "sri\n",
      "34\n",
      "None\n"
     ]
    }
   ],
   "source": [
    "def student(id,name,marks):\n",
    "    print(id)\n",
    "    print(name)\n",
    "    print(marks)\n",
    "a=student('AO081','sri','34')\n",
    "print(a)"
   ]
  },
  {
   "cell_type": "code",
   "execution_count": 69,
   "metadata": {},
   "outputs": [
    {
     "name": "stdout",
     "output_type": "stream",
     "text": [
      "(3, 4, 5, 6)\n",
      "20\n"
     ]
    }
   ],
   "source": [
    "def addition(a,*b):\n",
    "    print(b)\n",
    "    for i in b:\n",
    "        a+=i\n",
    "    print(a)\n",
    "    #return c\n",
    "addition(2,3,4,5,6)"
   ]
  },
  {
   "cell_type": "code",
   "execution_count": 68,
   "metadata": {},
   "outputs": [
    {
     "name": "stdout",
     "output_type": "stream",
     "text": [
      "<class 'dict'>\n",
      "name sairam\n",
      "subject python\n"
     ]
    }
   ],
   "source": [
    "def addition(**a):\n",
    "    print(type(a))\n",
    "    for key,value in a.items():\n",
    "        print(key,value)\n",
    "    \n",
    "addition(name= 'sairam',subject='python')"
   ]
  },
  {
   "cell_type": "code",
   "execution_count": 71,
   "metadata": {},
   "outputs": [
    {
     "data": {
      "text/plain": [
       "['False',\n",
       " 'None',\n",
       " 'True',\n",
       " 'and',\n",
       " 'as',\n",
       " 'assert',\n",
       " 'async',\n",
       " 'await',\n",
       " 'break',\n",
       " 'class',\n",
       " 'continue',\n",
       " 'def',\n",
       " 'del',\n",
       " 'elif',\n",
       " 'else',\n",
       " 'except',\n",
       " 'finally',\n",
       " 'for',\n",
       " 'from',\n",
       " 'global',\n",
       " 'if',\n",
       " 'import',\n",
       " 'in',\n",
       " 'is',\n",
       " 'lambda',\n",
       " 'nonlocal',\n",
       " 'not',\n",
       " 'or',\n",
       " 'pass',\n",
       " 'raise',\n",
       " 'return',\n",
       " 'try',\n",
       " 'while',\n",
       " 'with',\n",
       " 'yield']"
      ]
     },
     "execution_count": 71,
     "metadata": {},
     "output_type": "execute_result"
    }
   ],
   "source": [
    "import keyword\n",
    "keyword.kwlist"
   ]
  },
  {
   "cell_type": "code",
   "execution_count": 14,
   "metadata": {},
   "outputs": [
    {
     "name": "stdout",
     "output_type": "stream",
     "text": [
      "8\n",
      "2.0\n",
      "56\n"
     ]
    }
   ],
   "source": [
    "try:\n",
    "    \n",
    "    a=input()\n",
    "    b=6\n",
    "    c=a+b\n",
    "    print(c)\n",
    "except ValueError:\n",
    "    a=int(input())\n",
    "    b=6\n",
    "    c=a+b\n",
    "    print(c)\n",
    "except TypeError:\n",
    "    z=11\n",
    "    h=22\n",
    "    j=h/z\n",
    "    print(j)\n",
    "finally:\n",
    "    e=7\n",
    "    f=8\n",
    "    g=e*f\n",
    "    print(g)"
   ]
  },
  {
   "cell_type": "code",
   "execution_count": null,
   "metadata": {},
   "outputs": [],
   "source": []
  }
 ],
 "metadata": {
  "kernelspec": {
   "display_name": "Python 3",
   "language": "python",
   "name": "python3"
  },
  "language_info": {
   "codemirror_mode": {
    "name": "ipython",
    "version": 3
   },
   "file_extension": ".py",
   "mimetype": "text/x-python",
   "name": "python",
   "nbconvert_exporter": "python",
   "pygments_lexer": "ipython3",
   "version": "3.7.3"
  }
 },
 "nbformat": 4,
 "nbformat_minor": 2
}
