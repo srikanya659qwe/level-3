{
 "cells": [
  {
   "cell_type": "markdown",
   "metadata": {},
   "source": [
    "### Data Cleanig\n",
    "* importing the data set(CSV)\n",
    "* observe the Data Set\n",
    "    * Identifying the rows/columns and their relation\n",
    "    * Identifying the index column(primary key column)\n",
    "    * check if there are any duplicate columns\n",
    "    * which rows to be skipped\n",
    "* Assign the index column(to avoid creation of new index column\n",
    "* Skip irrelevant rows(to avoid dispaly of index row)\n",
    "* Drop duplicate/iirelevant \n",
    "   "
   ]
  },
  {
   "cell_type": "code",
   "execution_count": null,
   "metadata": {},
   "outputs": [],
   "source": []
  }
 ],
 "metadata": {
  "kernelspec": {
   "display_name": "Python 3",
   "language": "python",
   "name": "python3"
  },
  "language_info": {
   "codemirror_mode": {
    "name": "ipython",
    "version": 3
   },
   "file_extension": ".py",
   "mimetype": "text/x-python",
   "name": "python",
   "nbconvert_exporter": "python",
   "pygments_lexer": "ipython3",
   "version": "3.7.3"
  }
 },
 "nbformat": 4,
 "nbformat_minor": 2
}
