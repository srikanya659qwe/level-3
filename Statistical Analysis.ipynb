{
 "cells": [
  {
   "cell_type": "markdown",
   "metadata": {},
   "source": [
    "### Probability Statistics\n"
   ]
  },
  {
   "cell_type": "markdown",
   "metadata": {},
   "source": [
    "**Probability**  is the study of random events\n",
    "- most people have an intuitive\n",
    "- understanding of degrees of probability,which is why you can use\n",
    "- words like \"probably\" and \"unlikely\" without special training ,but \n",
    "- will talk about how to make quantitative claims about those \n",
    "\n",
    "**Statistics** is the discipline of using data samples to suppoted populations.\n",
    "- most statistical analysis is based on probability,which is \n",
    "- why these pieces are usually presented together\n",
    "\n",
    "\n",
    "**Types of ststistics**\n",
    "- descriptive  - describe a data or samples or visualizing samples\n",
    "- inferential  - Inferential statistics are used when data is viewed as a subclass of a specific population (like prediction or generalization)"
   ]
  },
  {
   "cell_type": "markdown",
   "metadata": {},
   "source": [
    "### Statistical Analysis Steps\n",
    "- Data Collection\n",
    "- Descriptive Statistics\n",
    "- Exploratory data analysis\n",
    "- Estimation\n",
    "- Hypothesis Testing"
   ]
  },
  {
   "cell_type": "markdown",
   "metadata": {},
   "source": [
    "### Terms used in statistics\n",
    "- anecdotal evidence\n",
    "- population\n",
    "- cross-sectional study\n",
    "- longitudinal study\n",
    "- respondent\n",
    "- cohort\n",
    "- sample\n",
    "- representative\n"
   ]
  },
  {
   "cell_type": "markdown",
   "metadata": {},
   "source": [
    "### Terms of descriptive Statistics\n",
    "- mean        -              u-(simga)xi/n\n",
    "- variance    -               (row)**2=sigma(xi-u/n)\n",
    "- standard deviation         "
   ]
  },
  {
   "cell_type": "code",
   "execution_count": 7,
   "metadata": {
    "scrolled": true
   },
   "outputs": [
    {
     "name": "stdout",
     "output_type": "stream",
     "text": [
      "2.357022603955158\n"
     ]
    }
   ],
   "source": [
    "marks=[10,5,5]\n",
    "mean=sum(marks)/len(marks)\n",
    "#mean\n",
    "sumSigma=0\n",
    "for m in marks:\n",
    "    sumSigma += (m-mean) **2\n",
    "#print(sumSigma)\n",
    "variance=sumSigma/len(marks)\n",
    "sd=variance ** 0.5\n",
    "print(sd)"
   ]
  },
  {
   "cell_type": "markdown",
   "metadata": {},
   "source": [
    "### frequency distribution"
   ]
  },
  {
   "cell_type": "code",
   "execution_count": 19,
   "metadata": {},
   "outputs": [
    {
     "data": {
      "text/plain": [
       "0.4"
      ]
     },
     "execution_count": 19,
     "metadata": {},
     "output_type": "execute_result"
    }
   ],
   "source": [
    "marks=[100,5,5,1,1,1,7,7,7,7]\n",
    "mean=sum(marks)/len(marks)\n",
    "#mean\n",
    "sumSigma=0\n",
    "for m in marks:\n",
    "    sumSigma += (m-mean) **2\n",
    "#print(sumSigma)\n",
    "variance=sumSigma/len(marks)\n",
    "sd=variance ** 0.5\n",
    "#print(sd)\n",
    "freq={1:3,5:2,7:4,100:1}\n",
    "p100=freq[100]/len(marks)\n",
    "#p100=freq[100]/len(marks)*10\n",
    "p1=freq[1]/len(marks)\n",
    "#p1\n",
    "p5=freq[5]/len(marks)\n",
    "#p5\n",
    "p7=freq[7]/len(marks)\n",
    "p7"
   ]
  },
  {
   "cell_type": "code",
   "execution_count": 25,
   "metadata": {},
   "outputs": [
    {
     "data": {
      "text/plain": [
       "1"
      ]
     },
     "execution_count": 25,
     "metadata": {},
     "output_type": "execute_result"
    }
   ],
   "source": [
    "# medium\n",
    "# marks.sort() #inplace\n",
    "\n",
    "sortedmarks=sorted(marks)\n",
    "median=sortedmarks[len(sortedmarks)//2]\n",
    "median\n",
    "mean\n",
    "freq[100]\n",
    "# Mode is maximum frequency"
   ]
  },
  {
   "cell_type": "code",
   "execution_count": null,
   "metadata": {},
   "outputs": [],
   "source": []
  }
 ],
 "metadata": {
  "kernelspec": {
   "display_name": "Python 3",
   "language": "python",
   "name": "python3"
  },
  "language_info": {
   "codemirror_mode": {
    "name": "ipython",
    "version": 3
   },
   "file_extension": ".py",
   "mimetype": "text/x-python",
   "name": "python",
   "nbconvert_exporter": "python",
   "pygments_lexer": "ipython3",
   "version": "3.7.3"
  }
 },
 "nbformat": 4,
 "nbformat_minor": 2
}
